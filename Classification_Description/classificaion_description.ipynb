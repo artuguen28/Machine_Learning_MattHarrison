{
 "cells": [
  {
   "cell_type": "markdown",
   "metadata": {},
   "source": [
    "## Classification Description\n"
   ]
  },
  {
   "cell_type": "markdown",
   "metadata": {},
   "source": [
    "### Importing libraries"
   ]
  },
  {
   "cell_type": "code",
   "execution_count": 19,
   "metadata": {},
   "outputs": [],
   "source": [
    "import matplotlib.pyplot as plt\n",
    "import pandas as pd\n",
    "\n",
    "from sklearn import (\n",
    "    ensemble,\n",
    "    preprocessing,\n",
    "    tree,\n",
    "    impute,\n",
    "    metrics\n",
    ")\n",
    "\n",
    "from sklearn.metrics import (\n",
    "    auc,\n",
    "    confusion_matrix,\n",
    "    roc_auc_score,\n",
    "    roc_curve\n",
    ")\n",
    "\n",
    "from sklearn.model_selection import (\n",
    "    train_test_split,\n",
    "    StratifiedKFold\n",
    ")\n",
    "\n",
    "from yellowbrick.classifier import (\n",
    "    ConfusionMatrix,\n",
    "    ROCAUC,\n",
    ")\n",
    "\n",
    "from sklearn.linear_model import (\n",
    "    LogisticRegression\n",
    ")\n",
    "\n",
    "from sklearn.tree import DecisionTreeClassifier\n",
    "from sklearn.neighbors import (\n",
    "    KNeighborsClassifier\n",
    ")\n",
    "\n",
    "from yellowbrick.model_selection import LearningCurve\n",
    "from sklearn.experimental import enable_iterative_imputer\n",
    "import pandas_profiling\n",
    "\n",
    "from sklearn import model_selection\n",
    "from sklearn.dummy import DummyClassifier\n",
    "\n",
    "from sklearn.naive_bayes import GaussianNB\n",
    "from sklearn.svm import SVC\n",
    "from sklearn.ensemble import (\n",
    "    RandomForestClassifier\n",
    ")\n",
    "\n",
    "import xgboost\n",
    "\n"
   ]
  },
  {
   "cell_type": "code",
   "execution_count": 20,
   "metadata": {},
   "outputs": [
    {
     "name": "stderr",
     "output_type": "stream",
     "text": [
      "d:\\anaconda3\\envs\\ML_MattHarrison\\lib\\site-packages\\sklearn\\metrics\\_classification.py:1334: UndefinedMetricWarning: Precision is ill-defined and being set to 0.0 due to no predicted samples. Use `zero_division` parameter to control this behavior.\n",
      "  _warn_prf(average, modifier, msg_start, len(result))\n"
     ]
    },
    {
     "data": {
      "text/plain": [
       "0.0"
      ]
     },
     "execution_count": 20,
     "metadata": {},
     "output_type": "execute_result"
    }
   ],
   "source": [
    "df = pd.read_excel(r\"D:\\GitHub\\Machine_Learning_MattHarrison\\Classification_Description\\titanic3.xls\")\n",
    "\n",
    "def tweak_titanic(df):\n",
    "    df = df.drop(\n",
    "        columns=[\n",
    "            \"name\",\n",
    "            \"ticket\",\n",
    "            \"home.dest\",\n",
    "            \"boat\",\n",
    "            \"body\",\n",
    "            \"cabin\",\n",
    "        ]\n",
    "    ).pipe(pd.get_dummies, drop_first=True)\n",
    "\n",
    "    return df\n",
    "\n",
    "def get_train_test_X_y(df, y_col, size=0.3, std_cols=None):\n",
    "    y = df[y_col]\n",
    "    X = df.drop(columns=y_col)\n",
    "    X_train, X_test, y_train, y_test = train_test_split(X, y, test_size=size, random_state=42)\n",
    "    cols = X.columns\n",
    "    num_cols = [\n",
    "        \"pclass\",\n",
    "        \"age\",\n",
    "        \"sibsp\",\n",
    "        \"parch\",\n",
    "        \"fare\"\n",
    "    ]\n",
    "    fi = impute.IterativeImputer()\n",
    "    X_train.loc[:, num_cols] = fi.fit_transform(X_train[num_cols])\n",
    "    X_test.loc[:, num_cols] = fi.transform(X_test[num_cols])\n",
    "\n",
    "    if std_cols:\n",
    "        std = preprocessing.StandardScaler()\n",
    "        X_train.loc[:, std_cols] = std.fit_transform(X_train[std_cols])\n",
    "        X_test.loc[:, std_cols] = std.transform(X_test[std_cols])\n",
    "    \n",
    "    return X_train, X_test, y_train, y_test\n",
    "\n",
    "\n",
    "ti_df = tweak_titanic(df)\n",
    "std_cols = \"pclass,age,sibsp,fare\".split(\",\")\n",
    "X_train, X_test, y_train, y_test = get_train_test_X_y(ti_df, \"survived\", std_cols=std_cols)\n",
    "\n",
    "bm = DummyClassifier()\n",
    "bm.fit(X_train, y_train)\n",
    "bm.score(X_test, y_test)\n",
    "\n",
    "metrics.precision_score(\n",
    "    y_test, bm.predict(X_test)\n",
    ")"
   ]
  },
  {
   "cell_type": "code",
   "execution_count": null,
   "metadata": {},
   "outputs": [],
   "source": [
    "X = pd.concat([X_train, X_test])\n",
    "y = pd.concat([y_train, y_test])\n",
    "\n",
    "for model in [\n",
    "    DummyClassifier,\n",
    "    LogisticRegression,\n",
    "    DecisionTreeClassifier,\n",
    "    KNeighborsClassifier,\n",
    "    GaussianNB,\n",
    "    SVC,\n",
    "    RandomForestClassifier,\n",
    "    xgboost.XGBClassifier\n",
    "]:\n",
    "    cls = model()\n",
    "    kfold = model_selection.KFold(\n",
    "        n_splits=10, random_state=42, shuffle=True\n",
    "    )\n",
    "    s = model_selection.cross_val_score(\n",
    "        cls, X, y, scoring=\"roc_auc\", cv=kfold\n",
    "    )\n",
    "    print(\n",
    "        f\"{model.__name__:22} AUC: {s.mean():.3f} STD: {s.std:.2f}\"\n",
    "    )\n",
    "\n",
    "# This should be comparing different algoritms using the AUC score"
   ]
  },
  {
   "cell_type": "markdown",
   "metadata": {},
   "source": [
    "### Model"
   ]
  },
  {
   "cell_type": "code",
   "execution_count": 26,
   "metadata": {},
   "outputs": [
    {
     "name": "stderr",
     "output_type": "stream",
     "text": [
      "d:\\anaconda3\\envs\\ML_MattHarrison\\lib\\site-packages\\sklearn\\ensemble\\_forest.py:427: FutureWarning: `max_features='auto'` has been deprecated in 1.1 and will be removed in 1.3. To keep the past behaviour, explicitly set `max_features='sqrt'` or remove this parameter as it is also the default value for RandomForestClassifiers and ExtraTreesClassifiers.\n",
      "  warn(\n"
     ]
    },
    {
     "name": "stdout",
     "output_type": "stream",
     "text": [
      "0.7837150127226463\n",
      "0.7916666666666666\n"
     ]
    }
   ],
   "source": [
    "# Creating a model (random forest)\n",
    "\n",
    "rf = ensemble.RandomForestClassifier(\n",
    "    n_estimators=100, random_state=42\n",
    ")\n",
    "\n",
    "rf.fit(X_train, y_train)\n",
    "\n",
    "rf5 = ensemble.RandomForestClassifier(\n",
    "    **{\n",
    "        \"max_features\": \"auto\",\n",
    "        \"min_samples_leaf\": 0.1,\n",
    "        \"n_estimators\": 200,\n",
    "        \"random_state\": 42,\n",
    "    }\n",
    ")\n",
    "\n",
    "rf5.fit(X_train, y_train)\n",
    "\n",
    "# Evaluating the model\n",
    "\n",
    "print(rf.score(X_test, y_test))\n",
    "print(metrics.precision_score(y_test, rf.predict(X_test)))"
   ]
  },
  {
   "cell_type": "code",
   "execution_count": 25,
   "metadata": {},
   "outputs": [
    {
     "name": "stdout",
     "output_type": "stream",
     "text": [
      "age             0.285\n",
      "fare            0.262\n",
      "sex_male        0.241\n",
      "pclass          0.089\n",
      "sibsp           0.050\n"
     ]
    }
   ],
   "source": [
    "for col, val in sorted(\n",
    "    zip(\n",
    "        X_train.columns,\n",
    "        rf.feature_importances_,\n",
    "    ),\n",
    "    key=lambda x: x[1],\n",
    "    reverse=True,\n",
    ")[:5]:\n",
    "    print(f\"{col:10} {val:10.3f}\")"
   ]
  },
  {
   "cell_type": "code",
   "execution_count": 30,
   "metadata": {},
   "outputs": [
    {
     "name": "stderr",
     "output_type": "stream",
     "text": [
      "d:\\anaconda3\\envs\\ML_MattHarrison\\lib\\site-packages\\yellowbrick\\classifier\\base.py:232: YellowbrickWarning: could not determine class_counts_ from previously fitted classifier\n",
      "  warnings.warn(\n"
     ]
    },
    {
     "data": {
      "image/png": "[encoded data removed]",
      "text/plain": [
       "<Figure size 600x600 with 1 Axes>"
      ]
     },
     "metadata": {},
     "output_type": "display_data"
    }
   ],
   "source": [
    "# Confusion Matrix\n",
    "\n",
    "y_pred = rf5.predict(X_test)\n",
    "confusion_matrix(y_test, y_pred)\n",
    "\n",
    "mapping = {0: \"died\", 1: \"survived\"}\n",
    "fig, ax = plt.subplots(figsize=(6, 6))\n",
    "cm_viz = ConfusionMatrix(\n",
    "    rf5,\n",
    "    classes=[\"died\", \"survived\"],\n",
    "    label_encoder=mapping,\n",
    ")\n",
    "cm_viz.score(X_test, y_test)\n",
    "cm_viz.poof()\n",
    "fig.savefig(\n",
    "    \"lpr_0304.png\",\n",
    "    dpi=300,\n",
    "    bbox_inches=\"tight\",\n",
    ")"
   ]
  }
 ],
 "metadata": {
  "kernelspec": {
   "display_name": "Python 3.9.13 ('ML_MattHarrison')",
   "language": "python",
   "name": "python3"
  },
  "language_info": {
   "codemirror_mode": {
    "name": "ipython",
    "version": 3
   },
   "file_extension": ".py",
   "mimetype": "text/x-python",
   "name": "python",
   "nbconvert_exporter": "python",
   "pygments_lexer": "ipython3",
   "version": "3.9.13"
  },
  "orig_nbformat": 4,
  "vscode": {
   "interpreter": {
    "hash": "b61953092208f4a87655122507d7ec849bcf58bfa13f7a73abd1290003955e9a"
   }
  }
 },
 "nbformat": 4,
 "nbformat_minor": 2
}
